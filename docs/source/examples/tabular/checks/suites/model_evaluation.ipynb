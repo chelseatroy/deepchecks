{
 "cells": [
  {
   "cell_type": "code",
   "execution_count": null,
   "id": "b3db40e4",
   "metadata": {},
   "outputs": [],
   "source": [
    "import sys\n",
    "!{sys.executable} -m pip install deepchecks"
   ]
  },
  {
   "cell_type": "code",
   "execution_count": null,
   "id": "77f32a31",
   "metadata": {},
   "outputs": [],
   "source": [
    "import deepchecks\n",
    "from deepchecks.tabular import Dataset\n",
    "from deepchecks.tabular.datasets.classification.phishing import load_data\n",
    "import pandas as pd\n",
    "\n",
    "df = load_data(data_format='dataframe', as_train_test=False)\n",
    "dataset = deepchecks.tabular.Dataset(df=df, label='target',\n",
    "                                     set_datetime_from_dataframe_index=True, cat_features=[])"
   ]
  },
  {
   "cell_type": "code",
   "execution_count": null,
   "id": "85b4d3d9",
   "metadata": {},
   "outputs": [],
   "source": [
    "from deepchecks.tabular.suites import model_evaluation\n",
    "\n",
    "integ_suite = model_evaluation()\n",
    "integ_suite.run(dataset)"
   ]
  }
 ],
 "metadata": {
  "kernelspec": {
   "display_name": "Python 3",
   "language": "python",
   "name": "python3"
  },
  "language_info": {
   "codemirror_mode": {
    "name": "ipython",
    "version": 3
   },
   "file_extension": ".py",
   "mimetype": "text/x-python",
   "name": "python",
   "nbconvert_exporter": "python",
   "pygments_lexer": "ipython3",
   "version": "3.8.5"
  }
 },
 "nbformat": 4,
 "nbformat_minor": 5
}
