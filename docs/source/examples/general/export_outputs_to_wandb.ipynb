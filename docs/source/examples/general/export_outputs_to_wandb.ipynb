{
 "cells": [
  {
   "cell_type": "markdown",
   "id": "00434bbb",
   "metadata": {},
   "source": [
    "# Export Outputs to Weights & Biases (wandb)"
   ]
  },
  {
   "cell_type": "markdown",
   "id": "117786d7",
   "metadata": {},
   "source": [
    "In this guide, we will demonstrate how to export the Check's and the Suite's output to wandb.\n",
    "\n",
    "This enables to view the exported results in wandb and compare the results you receive with diffrent parameters or model/data."
   ]
  },
  {
   "cell_type": "markdown",
   "id": "eac96037",
   "metadata": {
    "ExecuteTime": {
     "end_time": "2022-01-19T14:11:23.736237Z",
     "start_time": "2022-01-19T14:11:23.728822Z"
    }
   },
   "source": [
    "Notebook Structure:\n",
    " \n",
    "- [Load Data and Run Check](#Load-Data)\n",
    "- [Export Check to wandb](#check_wandb)\n",
    "- [Export Suite to wandb](#suite_wandb)"
   ]
  },
  {
   "cell_type": "markdown",
   "id": "8399e54b",
   "metadata": {},
   "source": [
    "## Load Data "
   ]
  },
  {
   "cell_type": "code",
   "execution_count": null,
   "id": "17d797c9",
   "metadata": {
    "ExecuteTime": {
     "end_time": "2022-01-19T14:36:32.971385Z",
     "start_time": "2022-01-19T14:36:28.714323Z"
    }
   },
   "outputs": [
    {
     "name": "stderr",
     "output_type": "stream",
     "text": [
      "/Users/jonthanliberman/Documents/MLChecks/test1/lib/python3.8/site-packages/statsmodels/compat/pandas.py:65: FutureWarning:\n",
      "\n",
      "pandas.Int64Index is deprecated and will be removed from pandas in a future version. Use pandas.Index with the appropriate dtype instead.\n",
      "\n"
     ]
    }
   ],
   "source": [
    "from deepchecks.tabular.datasets.classification import iris\n",
    "\n",
    "train_dataset, test_dataset = iris.load_data()\n",
    "model = iris.load_fitted_model()"
   ]
  },
  {
   "cell_type": "markdown",
   "id": "6f90d64a",
   "metadata": {},
   "source": [
    "## Run a Check"
   ]
  },
  {
   "cell_type": "code",
   "execution_count": null,
   "id": "4c9b9ac7",
   "metadata": {
    "ExecuteTime": {
     "end_time": "2022-01-19T14:36:33.779289Z",
     "start_time": "2022-01-19T14:36:32.974860Z"
    }
   },
   "outputs": [],
   "source": [
    "from deepchecks.tabular.checks import ModelErrorAnalysis\n",
    "\n",
    "result = ModelErrorAnalysis().add_condition_segments_performance_relative_difference_not_greater_than(\\\n",
    "                                ).run(train_dataset, test_dataset, model)"
   ]
  },
  {
   "cell_type": "markdown",
   "id": "db0eb8e7",
   "metadata": {
    "ExecuteTime": {
     "end_time": "2022-01-19T13:34:42.467141Z",
     "start_time": "2022-01-19T13:34:42.461561Z"
    }
   },
   "source": [
    "### Observe CheckResult Display and Value"
   ]
  },
  {
   "cell_type": "code",
   "execution_count": null,
   "id": "ab024702",
   "metadata": {
    "ExecuteTime": {
     "end_time": "2022-01-19T14:36:33.841970Z",
     "start_time": "2022-01-19T14:36:33.781099Z"
    }
   },
   "outputs": [],
   "source": [
    "result"
   ]
  },
  {
   "cell_type": "code",
   "execution_count": null,
   "id": "8ca935db",
   "metadata": {
    "ExecuteTime": {
     "end_time": "2022-01-19T14:36:33.849671Z",
     "start_time": "2022-01-19T14:36:33.844113Z"
    }
   },
   "outputs": [],
   "source": [
    "# the value can be observed\n",
    "result.value"
   ]
  },
  {
   "cell_type": "markdown",
   "id": "52643a23",
   "metadata": {},
   "source": [
    "## Export a Check's Output (CheckResult) to wandb <a name='check_wandb'></a>\n",
    "\n",
    "Exporting the output to wandb is possible using the `to_wandb` function. This function exports the check outputs to a wandb project.\n",
    "The output display that will be export will be a bit diffrent from what you usually see. Only the tables and the plots are being exported.\n",
    "On default if you export a single check to wandb it will create a project with the check's name and export the results there."
   ]
  },
  {
   "cell_type": "markdown",
   "id": "71973a0a",
   "metadata": {},
   "source": [
    "### See Check to_wandb options"
   ]
  },
  {
   "cell_type": "code",
   "execution_count": null,
   "id": "b2fc4707",
   "metadata": {
    "ExecuteTime": {
     "end_time": "2022-01-19T14:36:33.916124Z",
     "start_time": "2022-01-19T14:36:33.851103Z"
    },
    "tags": []
   },
   "outputs": [],
   "source": [
    "from deepchecks.core import CheckResult\n",
    "\n",
    "help(CheckResult.to_wandb)"
   ]
  },
  {
   "cell_type": "markdown",
   "id": "876d8d81-c037-4b10-8215-465839792f04",
   "metadata": {},
   "source": [
    "To use this function you first need to login to your wandb account"
   ]
  },
  {
   "cell_type": "code",
   "execution_count": null,
   "id": "fe8542c2-110b-4819-80d8-a33fa657e2e5",
   "metadata": {},
   "outputs": [],
   "source": [
    "import wandb\n",
    "wandb.login()"
   ]
  },
  {
   "cell_type": "markdown",
   "id": "d235d751-0019-4062-afd5-68f7b965b4e4",
   "metadata": {},
   "source": [
    "Then just run the `to_wandb` function."
   ]
  },
  {
   "cell_type": "code",
   "execution_count": null,
   "id": "c2f16462",
   "metadata": {
    "ExecuteTime": {
     "end_time": "2022-01-19T14:36:33.938312Z",
     "start_time": "2022-01-19T14:36:33.918159Z"
    }
   },
   "outputs": [],
   "source": [
    "result.to_wandb()"
   ]
  },
  {
   "cell_type": "markdown",
   "id": "a5ac9c1d",
   "metadata": {},
   "source": [
    "## Exporting a Suite's Output (SuiteResult) to wandb <a name='suite_wandb'></a>"
   ]
  },
  {
   "cell_type": "markdown",
   "id": "8045a546",
   "metadata": {},
   "source": [
    "### Run Suite and export to wandb\n",
    "Exporting a suite to wandb is the same as exporting a check. The display in wand will have a section per check.\n",
    "On default if you export a suite to wandb it will create a project with the suite's name and send the results there."
   ]
  },
  {
   "cell_type": "code",
   "execution_count": null,
   "id": "aa45b4b3-71d1-4bc2-8afe-9408d57d5802",
   "metadata": {
    "ExecuteTime": {
     "end_time": "2022-01-19T14:36:34.025007Z",
     "start_time": "2022-01-19T14:36:34.019432Z"
    }
   },
   "outputs": [],
   "source": [
    "from deepchecks.tabular.suites import full_suite\n",
    "\n",
    "suite = full_suite()"
   ]
  },
  {
   "cell_type": "code",
   "execution_count": null,
   "id": "15f0d894-be0d-478b-afe3-3280cb6fd62f",
   "metadata": {
    "ExecuteTime": {
     "end_time": "2022-01-19T14:36:37.110598Z",
     "start_time": "2022-01-19T14:36:34.026705Z"
    },
    "tags": []
   },
   "outputs": [],
   "source": [
    "suite_result = suite.run(train_dataset=train_dataset, test_dataset=test_dataset, model=model)\n",
    "suite_result.to_wandb()"
   ]
  }
 ],
 "metadata": {
  "kernelspec": {
   "display_name": "test1",
   "language": "python",
   "name": "test1"
  },
  "language_info": {
   "codemirror_mode": {
    "name": "ipython",
    "version": 3
   },
   "file_extension": ".py",
   "mimetype": "text/x-python",
   "name": "python",
   "nbconvert_exporter": "python",
   "pygments_lexer": "ipython3",
   "version": "3.8.12"
  },
  "toc": {
   "base_numbering": 1,
   "nav_menu": {},
   "number_sections": true,
   "sideBar": true,
   "skip_h1_title": false,
   "title_cell": "Table of Contents",
   "title_sidebar": "Contents",
   "toc_cell": false,
   "toc_position": {},
   "toc_section_display": true,
   "toc_window_display": false
  },
  "widgets": {
   "application/vnd.jupyter.widget-state+json": {
    "state": {
     "1505efc4d0964f8b952c64770784e4ea": {
      "model_module": "@jupyter-widgets/controls",
      "model_module_version": "1.5.0",
      "model_name": "FloatProgressModel",
      "state": {
       "_dom_classes": [],
       "_model_module": "@jupyter-widgets/controls",
       "_model_module_version": "1.5.0",
       "_model_name": "FloatProgressModel",
       "_view_count": null,
       "_view_module": "@jupyter-widgets/controls",
       "_view_module_version": "1.5.0",
       "_view_name": "ProgressView",
       "bar_style": "",
       "description": "",
       "description_tooltip": null,
       "layout": "IPY_MODEL_754010291dbe4420a178ba3ed06f8373",
       "max": 36,
       "min": 0,
       "orientation": "horizontal",
       "style": "IPY_MODEL_57057b1bdae64fd7b90c81911d58d950",
       "value": 36
      }
     },
     "2114ca2dbd34406cb5cebde18d7f1488": {
      "model_module": "@jupyter-widgets/controls",
      "model_module_version": "1.5.0",
      "model_name": "HTMLModel",
      "state": {
       "_dom_classes": [],
       "_model_module": "@jupyter-widgets/controls",
       "_model_module_version": "1.5.0",
       "_model_name": "HTMLModel",
       "_view_count": null,
       "_view_module": "@jupyter-widgets/controls",
       "_view_module_version": "1.5.0",
       "_view_name": "HTMLView",
       "description": "",
       "description_tooltip": null,
       "layout": "IPY_MODEL_acbfaec81abd40b683605413a7d1b13e",
       "placeholder": "​",
       "style": "IPY_MODEL_416088e3d305487dacaf0f94c6cb04f4",
       "value": "Full Suite:  97%"
      }
     },
     "216771b20a184eb3a05e6e669fe8b6d3": {
      "model_module": "@jupyter-widgets/controls",
      "model_module_version": "1.5.0",
      "model_name": "HBoxModel",
      "state": {
       "_dom_classes": [],
       "_model_module": "@jupyter-widgets/controls",
       "_model_module_version": "1.5.0",
       "_model_name": "HBoxModel",
       "_view_count": null,
       "_view_module": "@jupyter-widgets/controls",
       "_view_module_version": "1.5.0",
       "_view_name": "HBoxView",
       "box_style": "",
       "children": [
        "IPY_MODEL_2114ca2dbd34406cb5cebde18d7f1488",
        "IPY_MODEL_1505efc4d0964f8b952c64770784e4ea",
        "IPY_MODEL_49a7ace9db3c4235982b4e50b8316d65"
       ],
       "layout": "IPY_MODEL_8fac6a8c8b23406d88c1a14e870e1954"
      }
     },
     "416088e3d305487dacaf0f94c6cb04f4": {
      "model_module": "@jupyter-widgets/controls",
      "model_module_version": "1.5.0",
      "model_name": "DescriptionStyleModel",
      "state": {
       "_model_module": "@jupyter-widgets/controls",
       "_model_module_version": "1.5.0",
       "_model_name": "DescriptionStyleModel",
       "_view_count": null,
       "_view_module": "@jupyter-widgets/base",
       "_view_module_version": "1.2.0",
       "_view_name": "StyleView",
       "description_width": ""
      }
     },
     "49a7ace9db3c4235982b4e50b8316d65": {
      "model_module": "@jupyter-widgets/controls",
      "model_module_version": "1.5.0",
      "model_name": "HTMLModel",
      "state": {
       "_dom_classes": [],
       "_model_module": "@jupyter-widgets/controls",
       "_model_module_version": "1.5.0",
       "_model_name": "HTMLModel",
       "_view_count": null,
       "_view_module": "@jupyter-widgets/controls",
       "_view_module_version": "1.5.0",
       "_view_name": "HTMLView",
       "description": "",
       "description_tooltip": null,
       "layout": "IPY_MODEL_cce9ee5794d246ae9f3e2355a3a8bc7a",
       "placeholder": "​",
       "style": "IPY_MODEL_96a481a67f9a4d469a6a767dc91b88ff",
       "value": " 35/36 [00:02&lt;00:00, 12.47 Check/s, Check=Label Ambiguity]"
      }
     },
     "57057b1bdae64fd7b90c81911d58d950": {
      "model_module": "@jupyter-widgets/controls",
      "model_module_version": "1.5.0",
      "model_name": "ProgressStyleModel",
      "state": {
       "_model_module": "@jupyter-widgets/controls",
       "_model_module_version": "1.5.0",
       "_model_name": "ProgressStyleModel",
       "_view_count": null,
       "_view_module": "@jupyter-widgets/base",
       "_view_module_version": "1.2.0",
       "_view_name": "StyleView",
       "bar_color": "#9d60fb",
       "description_width": ""
      }
     },
     "754010291dbe4420a178ba3ed06f8373": {
      "model_module": "@jupyter-widgets/base",
      "model_module_version": "1.2.0",
      "model_name": "LayoutModel",
      "state": {
       "_model_module": "@jupyter-widgets/base",
       "_model_module_version": "1.2.0",
       "_model_name": "LayoutModel",
       "_view_count": null,
       "_view_module": "@jupyter-widgets/base",
       "_view_module_version": "1.2.0",
       "_view_name": "LayoutView",
       "align_content": null,
       "align_items": null,
       "align_self": null,
       "border": null,
       "bottom": null,
       "display": null,
       "flex": null,
       "flex_flow": null,
       "grid_area": null,
       "grid_auto_columns": null,
       "grid_auto_flow": null,
       "grid_auto_rows": null,
       "grid_column": null,
       "grid_gap": null,
       "grid_row": null,
       "grid_template_areas": null,
       "grid_template_columns": null,
       "grid_template_rows": null,
       "height": null,
       "justify_content": null,
       "justify_items": null,
       "left": null,
       "margin": null,
       "max_height": null,
       "max_width": null,
       "min_height": null,
       "min_width": null,
       "object_fit": null,
       "object_position": null,
       "order": null,
       "overflow": null,
       "overflow_x": null,
       "overflow_y": null,
       "padding": null,
       "right": null,
       "top": null,
       "visibility": null,
       "width": null
      }
     },
     "8fac6a8c8b23406d88c1a14e870e1954": {
      "model_module": "@jupyter-widgets/base",
      "model_module_version": "1.2.0",
      "model_name": "LayoutModel",
      "state": {
       "_model_module": "@jupyter-widgets/base",
       "_model_module_version": "1.2.0",
       "_model_name": "LayoutModel",
       "_view_count": null,
       "_view_module": "@jupyter-widgets/base",
       "_view_module_version": "1.2.0",
       "_view_name": "LayoutView",
       "align_content": null,
       "align_items": null,
       "align_self": null,
       "border": null,
       "bottom": null,
       "display": null,
       "flex": null,
       "flex_flow": null,
       "grid_area": null,
       "grid_auto_columns": null,
       "grid_auto_flow": null,
       "grid_auto_rows": null,
       "grid_column": null,
       "grid_gap": null,
       "grid_row": null,
       "grid_template_areas": null,
       "grid_template_columns": null,
       "grid_template_rows": null,
       "height": null,
       "justify_content": null,
       "justify_items": null,
       "left": null,
       "margin": null,
       "max_height": null,
       "max_width": null,
       "min_height": null,
       "min_width": null,
       "object_fit": null,
       "object_position": null,
       "order": null,
       "overflow": null,
       "overflow_x": null,
       "overflow_y": null,
       "padding": null,
       "right": null,
       "top": null,
       "visibility": null,
       "width": null
      }
     },
     "96a481a67f9a4d469a6a767dc91b88ff": {
      "model_module": "@jupyter-widgets/controls",
      "model_module_version": "1.5.0",
      "model_name": "DescriptionStyleModel",
      "state": {
       "_model_module": "@jupyter-widgets/controls",
       "_model_module_version": "1.5.0",
       "_model_name": "DescriptionStyleModel",
       "_view_count": null,
       "_view_module": "@jupyter-widgets/base",
       "_view_module_version": "1.2.0",
       "_view_name": "StyleView",
       "description_width": ""
      }
     },
     "acbfaec81abd40b683605413a7d1b13e": {
      "model_module": "@jupyter-widgets/base",
      "model_module_version": "1.2.0",
      "model_name": "LayoutModel",
      "state": {
       "_model_module": "@jupyter-widgets/base",
       "_model_module_version": "1.2.0",
       "_model_name": "LayoutModel",
       "_view_count": null,
       "_view_module": "@jupyter-widgets/base",
       "_view_module_version": "1.2.0",
       "_view_name": "LayoutView",
       "align_content": null,
       "align_items": null,
       "align_self": null,
       "border": null,
       "bottom": null,
       "display": null,
       "flex": null,
       "flex_flow": null,
       "grid_area": null,
       "grid_auto_columns": null,
       "grid_auto_flow": null,
       "grid_auto_rows": null,
       "grid_column": null,
       "grid_gap": null,
       "grid_row": null,
       "grid_template_areas": null,
       "grid_template_columns": null,
       "grid_template_rows": null,
       "height": null,
       "justify_content": null,
       "justify_items": null,
       "left": null,
       "margin": null,
       "max_height": null,
       "max_width": null,
       "min_height": null,
       "min_width": null,
       "object_fit": null,
       "object_position": null,
       "order": null,
       "overflow": null,
       "overflow_x": null,
       "overflow_y": null,
       "padding": null,
       "right": null,
       "top": null,
       "visibility": null,
       "width": null
      }
     },
     "cce9ee5794d246ae9f3e2355a3a8bc7a": {
      "model_module": "@jupyter-widgets/base",
      "model_module_version": "1.2.0",
      "model_name": "LayoutModel",
      "state": {
       "_model_module": "@jupyter-widgets/base",
       "_model_module_version": "1.2.0",
       "_model_name": "LayoutModel",
       "_view_count": null,
       "_view_module": "@jupyter-widgets/base",
       "_view_module_version": "1.2.0",
       "_view_name": "LayoutView",
       "align_content": null,
       "align_items": null,
       "align_self": null,
       "border": null,
       "bottom": null,
       "display": null,
       "flex": null,
       "flex_flow": null,
       "grid_area": null,
       "grid_auto_columns": null,
       "grid_auto_flow": null,
       "grid_auto_rows": null,
       "grid_column": null,
       "grid_gap": null,
       "grid_row": null,
       "grid_template_areas": null,
       "grid_template_columns": null,
       "grid_template_rows": null,
       "height": null,
       "justify_content": null,
       "justify_items": null,
       "left": null,
       "margin": null,
       "max_height": null,
       "max_width": null,
       "min_height": null,
       "min_width": null,
       "object_fit": null,
       "object_position": null,
       "order": null,
       "overflow": null,
       "overflow_x": null,
       "overflow_y": null,
       "padding": null,
       "right": null,
       "top": null,
       "visibility": null,
       "width": null
      }
     }
    },
    "version_major": 2,
    "version_minor": 0
   }
  }
 },
 "nbformat": 4,
 "nbformat_minor": 5
}
