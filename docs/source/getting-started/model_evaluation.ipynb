{
 "cells": [
  {
   "cell_type": "code",
   "execution_count": 1,
   "metadata": {},
   "outputs": [],
   "source": [
    "from deepchecks.tabular import Dataset\n",
    "from sklearn.ensemble import AdaBoostClassifier\n",
    "from sklearn.datasets import load_iris\n",
    "from sklearn.model_selection import train_test_split\n",
    "import pandas as pd\n",
    "from deepchecks.tabular.checks.performance import ConfusionMatrixReport"
   ]
  },
  {
   "cell_type": "markdown",
   "metadata": {},
   "source": [
    "## Model Evaluation Suite on Breast Cancer Data - Quickstart\n",
    "The model evaluation suite is relevant when you have a new model that you'd like to analyze for when it works, when it doesn't, and how you might improve it. Here we’ll use the avocado prices dataset, to demonstrate how you can run the suite with only a few simple lines of code, and see which kind of insights it can find."
   ]
  },
  {
   "cell_type": "code",
   "execution_count": 2,
   "metadata": {},
   "outputs": [],
   "source": [
    "from deepchecks.tabular import datasets\n",
    "\n",
    "# load data\n",
    "data = datasets.classification.breast_cancer.load_data(data_format='Dataframe', as_train_test=False)"
   ]
  },
  {
   "cell_type": "markdown",
   "metadata": {},
   "source": [
    "Let's create a scikit-learn AdaBoost model with all the standard settings, then run it on our breast cancer data for evaluation:"
   ]
  },
  {
   "cell_type": "code",
   "execution_count": 3,
   "metadata": {},
   "outputs": [],
   "source": [
    "clf = AdaBoostClassifier()\n",
    "X = data[['mean radius', 'mean texture', 'mean perimeter', 'mean area',\n",
    "       'mean smoothness', 'mean compactness', 'mean concavity',\n",
    "       'mean concave points', 'mean symmetry', 'mean fractal dimension',\n",
    "       'radius error', 'texture error', 'perimeter error', 'area error',\n",
    "       'smoothness error', 'compactness error', 'concavity error',\n",
    "       'concave points error', 'symmetry error', 'fractal dimension error',\n",
    "       'worst radius', 'worst texture', 'worst perimeter', 'worst area',\n",
    "       'worst smoothness', 'worst compactness', 'worst concavity',\n",
    "       'worst concave points', 'worst symmetry', 'worst fractal dimension']]\n",
    "y = data['target']\n",
    "X_train, X_test, y_train, y_test = train_test_split(X, y, test_size=0.5, random_state=42)\n",
    "\n",
    "\n",
    "clf.fit(X_train, y_train)\n",
    "\n",
    "ds_train = Dataset(X_train, label=y_train, cat_features=[])\n",
    "ds_test =  Dataset(X_test,  label=y_test, cat_features=[])"
   ]
  },
  {
   "cell_type": "markdown",
   "metadata": {},
   "source": [
    "## Run the Deepchecks Suite"
   ]
  },
  {
   "cell_type": "markdown",
   "metadata": {},
   "source": [
    "Validate your data with the deepchecks.tabular.suites.model_evaluation suite. It requires your training and test datasets as well as the model you used!\n",
    "\n",
    "Check out the [when should you use deepchecks guide](https://docs.deepchecks.com/dev/getting-started/when_should_you_use.html) for some more info about the existing suites and when to use them."
   ]
  },
  {
   "cell_type": "code",
   "execution_count": 4,
   "metadata": {},
   "outputs": [
    {
     "data": {
      "application/vnd.jupyter.widget-view+json": {
       "model_id": "",
       "version_major": 2,
       "version_minor": 0
      },
      "text/plain": [
       "Model Evaluation Suite:   0%|          | 0/11 [00:00<?, ? Check/s]"
      ]
     },
     "metadata": {},
     "output_type": "display_data"
    },
    {
     "data": {
      "application/vnd.jupyter.widget-view+json": {
       "model_id": "3e0aa4f4770a4b2499014566deeaf241",
       "version_major": 2,
       "version_minor": 0
      },
      "text/plain": [
       "VBox(children=(HTML(value='<style>.jupyter-widgets.widget-tab > .p-TabBar .p-TabBar-tab {flex: 0 1 auto}</styl…"
      ]
     },
     "metadata": {},
     "output_type": "display_data"
    }
   ],
   "source": [
    "from deepchecks.tabular.suites import model_evaluation\n",
    "\n",
    "eval_suite = model_evaluation()\n",
    "eval_suite.run(ds_train, ds_test, clf)"
   ]
  },
  {
   "cell_type": "markdown",
   "metadata": {},
   "source": [
    "## Model Evaluation Suite"
   ]
  },
  {
   "cell_type": "markdown",
   "metadata": {},
   "source": [
    "The suite is composed of various checks such as: Unused Features, Performance Report, ROC Report, etc...\n",
    "\n",
    "\n",
    "Each check may contain conditions (which will result in pass / fail / warning / error , represented by ✓ / ✖ / ! / ⁈ ) as well as other outputs such as plots or tables.\n",
    "Suites, checks and conditions can all be modified. Read more about [custom suites](https://docs.deepchecks.com/en/stable/user-guide/general/customizations/examples/plot_create_a_custom_suite.html). "
   ]
  },
  {
   "cell_type": "markdown",
   "metadata": {},
   "source": [
    "## What does this suite find? "
   ]
  },
  {
   "cell_type": "markdown",
   "metadata": {},
   "source": [
    "We can inspect the suite outputs and see where our model could be improved. \n",
    "\n",
    "### Let's start with the unused features."
   ]
  },
  {
   "cell_type": "code",
   "execution_count": 5,
   "metadata": {},
   "outputs": [
    {
     "data": {
      "application/vnd.jupyter.widget-view+json": {
       "model_id": "6b9bd025f3904acd923fa2fb21a93cca",
       "version_major": 2,
       "version_minor": 0
      },
      "text/plain": [
       "VBox(children=(HTML(value='<h4><b>Unused Features</b></h4>'), HTML(value='<p>Detect features that are nearly u…"
      ]
     },
     "metadata": {},
     "output_type": "display_data"
    }
   ],
   "source": [
    "from deepchecks.tabular.checks import UnusedFeatures\n",
    "\n",
    "# first let's see how the check runs:\n",
    "UnusedFeatures().run(ds_train, ds_test, clf)"
   ]
  },
  {
   "cell_type": "markdown",
   "metadata": {},
   "source": [
    "We see here that some features like 'smoothness error', 'concavity error', and 'texture error' have lower feature importance but higher variance than some of the other features in the model.\n",
    "\n",
    "Why is this? For some of these features, the result makes sense: for example the ones with 'error' on the end measure the _uncertainty_ associated with measures quantifying characteristics of the breast tissue, as opposed to the characteristics themselves. We would not expect the certainty of our metrics to impact the presence of breast cancer.\n",
    "\n",
    "Others, like 'worst compactness,' may be worth looking into. We would want to understand what that feature means to get a better picture of whether this feature's low feature importance makes sense. Perhaps if this feature _should_ be predictive, for example, our data on it contains enough noise as to carry very little real information about it. IF that's the case we may want to explore a better way to collect this metric, for example.\n",
    "\n",
    "For now let's remove those error columns."
   ]
  },
  {
   "cell_type": "code",
   "execution_count": 6,
   "metadata": {},
   "outputs": [],
   "source": [
    "X = X.drop(['smoothness error', 'concavity error', 'texture error'], axis=1)"
   ]
  },
  {
   "cell_type": "markdown",
   "metadata": {},
   "source": [
    "### Let's next look at a check that did not have output: Model Error Analysis.\n",
    "\n",
    "That check appears in the \"Checks without Output\" section with the message 'Unable to train meaningful error model (r^2 score: 0.48)'. What does it mean?"
   ]
  },
  {
   "cell_type": "code",
   "execution_count": 7,
   "metadata": {},
   "outputs": [
    {
     "data": {
      "text/html": [
       "<h4><b>Model Error Analysis</b></h4><p>Find features that best split the data into segments of high and low model error.</p><p style=\"color:red\">Unable to train meaningful error model (r^2 score: 0.48)</p>"
      ],
      "text/plain": [
       "<IPython.core.display.HTML object>"
      ]
     },
     "metadata": {},
     "output_type": "display_data"
    }
   ],
   "source": [
    "from deepchecks.tabular.checks import ModelErrorAnalysis\n",
    "\n",
    "# first let's see how the check runs:\n",
    "ModelErrorAnalysis().run(ds_train, ds_test, clf)"
   ]
  },
  {
   "cell_type": "markdown",
   "metadata": {},
   "source": [
    "This is saying that only 48% of the variation in the target variable can be explained by the features that the model has access to. \n",
    "\n",
    "For data with clear, consistent identification mechanisms—like, say, the iris dataset—this would be weird. We expect the iris plant's physical characteristics to pretty clearly map to the variety of plant it is.\n",
    "\n",
    "Cancer is notoriously much, much more complicated. Though we know some risk factors, we cannot always predict when it will occur or how it will present. \n",
    "\n",
    "Though this does not necessarily mean something is missing from our data, it _does_ mean that this check cannot do what it helps to do: identify whether there are certain features that can predict whether the _existing_ model is going to get its classification _wrong_. Suppose, for example, that the dataset included a boolean feature like `dense_breast_tissue`. Because many metrics are harder to collect accurately for dense breast tissue, it's possible that the metrics we _do_ collect would be less representative of the presence of cancer in those cases. This check would flag something like that and clue us into a need for better, or maybe different, metric collection mechanisms for dense breast tissue. "
   ]
  },
  {
   "cell_type": "markdown",
   "metadata": {},
   "source": [
    "### Finally, let's take a closer look at the Performance Report Check. \n",
    "\n",
    "Our data, unadulterated, passed this check. But what would make it fail? Suppose our data had a column indicating the presence of paclitaxel in the patient's blood sample:"
   ]
  },
  {
   "cell_type": "code",
   "execution_count": 8,
   "metadata": {},
   "outputs": [],
   "source": [
    "X_train['paclitaxel_in_blood_sample'] = y_train\n",
    "X_test['paclitaxel_in_blood_sample'] = 0"
   ]
  },
  {
   "cell_type": "markdown",
   "metadata": {},
   "source": [
    "What I've done above is a drastic oversimplification that assumes the use of paclitaxel, a common chemotherapy drug, for _all_ patients in whom breast cancer is detected.\n",
    "\n",
    "But it's classic temporal leakage: that treatment would have happened _after_ and _because_ breast cancer was detected, making it a feature that should _not_ be included in a model like this even if it's in a mass dump of patient data. We'd have it for the training data, but not for new data where we'd be asking the model for a prediction because those patients would _not_ have been diagnosed or treated yet.\n",
    "\n",
    "What happens when we run our suite with this new, leaky feature in there?"
   ]
  },
  {
   "cell_type": "code",
   "execution_count": 9,
   "metadata": {},
   "outputs": [
    {
     "data": {
      "application/vnd.jupyter.widget-view+json": {
       "model_id": "",
       "version_major": 2,
       "version_minor": 0
      },
      "text/plain": [
       "Model Evaluation Suite:   0%|          | 0/11 [00:00<?, ? Check/s]"
      ]
     },
     "metadata": {},
     "output_type": "display_data"
    },
    {
     "data": {
      "application/vnd.jupyter.widget-view+json": {
       "model_id": "9820530e972b488ba1387cca70d44374",
       "version_major": 2,
       "version_minor": 0
      },
      "text/plain": [
       "VBox(children=(HTML(value='<style>.jupyter-widgets.widget-tab > .p-TabBar .p-TabBar-tab {flex: 0 1 auto}</styl…"
      ]
     },
     "metadata": {},
     "output_type": "display_data"
    }
   ],
   "source": [
    "clf.fit(X_train, y_train)\n",
    "\n",
    "ds_train = Dataset(X_train, label=y_train, cat_features=[])\n",
    "ds_test =  Dataset(X_test,  label=y_test, cat_features=[])\n",
    "\n",
    "eval_suite = model_evaluation()\n",
    "eval_suite.run(ds_train, ds_test, clf)"
   ]
  },
  {
   "cell_type": "markdown",
   "metadata": {},
   "source": [
    "_Now_ we see a failure because the model performs _so_ much more poorly on the test data due to the fact that the paclitaxel feature is predictive for training data, but not for new data without the leakage."
   ]
  },
  {
   "cell_type": "markdown",
   "metadata": {},
   "source": [
    "Let's restore our data and re-run our suite:"
   ]
  },
  {
   "cell_type": "code",
   "execution_count": 10,
   "metadata": {},
   "outputs": [
    {
     "data": {
      "application/vnd.jupyter.widget-view+json": {
       "model_id": "",
       "version_major": 2,
       "version_minor": 0
      },
      "text/plain": [
       "Model Evaluation Suite:   0%|          | 0/11 [00:00<?, ? Check/s]"
      ]
     },
     "metadata": {},
     "output_type": "display_data"
    },
    {
     "data": {
      "application/vnd.jupyter.widget-view+json": {
       "model_id": "c80e7df1e5dc4128bcacc8ea78f12cd1",
       "version_major": 2,
       "version_minor": 0
      },
      "text/plain": [
       "VBox(children=(HTML(value='<style>.jupyter-widgets.widget-tab > .p-TabBar .p-TabBar-tab {flex: 0 1 auto}</styl…"
      ]
     },
     "metadata": {},
     "output_type": "display_data"
    }
   ],
   "source": [
    "X_train = X_train.drop(['paclitaxel_in_blood_sample', 'smoothness error', 'concavity error', 'texture error'], axis=1)\n",
    "X_test = X_test.drop(['paclitaxel_in_blood_sample', 'smoothness error', 'concavity error', 'texture error'], axis=1)\n",
    "\n",
    "\n",
    "clf.fit(X_train, y_train)\n",
    "\n",
    "ds_train = Dataset(X_train, label=y_train, cat_features=[])\n",
    "ds_test =  Dataset(X_test,  label=y_test, cat_features=[])\n",
    "\n",
    "eval_suite = model_evaluation()\n",
    "eval_suite.run(ds_train, ds_test, clf)"
   ]
  },
  {
   "cell_type": "code",
   "execution_count": null,
   "metadata": {},
   "outputs": [],
   "source": []
  }
 ],
 "metadata": {
  "kernelspec": {
   "display_name": "Python 3",
   "language": "python",
   "name": "python3"
  },
  "language_info": {
   "codemirror_mode": {
    "name": "ipython",
    "version": 3
   },
   "file_extension": ".py",
   "mimetype": "text/x-python",
   "name": "python",
   "nbconvert_exporter": "python",
   "pygments_lexer": "ipython3",
   "version": "3.9.0"
  }
 },
 "nbformat": 4,
 "nbformat_minor": 4
}
